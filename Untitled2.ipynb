{
 "cells": [
  {
   "cell_type": "code",
   "execution_count": 2,
   "id": "ff3804b4-3869-48dc-96bf-30694a394ac6",
   "metadata": {},
   "outputs": [
    {
     "data": {
      "application/vnd.jupyter.widget-view+json": {
       "model_id": "384db8485ff74855a5a0498e711d7119",
       "version_major": 2,
       "version_minor": 0
      },
      "text/plain": [
       "VBox(children=(HTML(value='<center> <img\\nsrc=https://huggingface.co/front/assets/huggingface_logo-noborder.sv…"
      ]
     },
     "metadata": {},
     "output_type": "display_data"
    }
   ],
   "source": [
    "from huggingface_hub import login\n",
    "login()\n"
   ]
  },
  {
   "cell_type": "code",
   "execution_count": 3,
   "id": "6420aadd-6199-4f41-ad9f-e5db9da152c9",
   "metadata": {},
   "outputs": [
    {
     "name": "stdout",
     "output_type": "stream",
     "text": [
      "{'type': 'user', 'id': '67d1f8ddd67cfca7b95cfaf2', 'name': 'aTHARVA7701', 'fullname': 'Atharv Salunke', 'email': 'atharvsalunke@gmail.com', 'emailVerified': True, 'canPay': False, 'periodEnd': None, 'isPro': False, 'avatarUrl': '/avatars/4ced6e319ce72cdbf28259bd8798d3d7.svg', 'orgs': [], 'auth': {'type': 'access_token', 'accessToken': {'displayName': 'Mistral-Access', 'role': 'write', 'createdAt': '2025-03-12T21:21:11.623Z'}}}\n"
     ]
    }
   ],
   "source": [
    "from huggingface_hub import whoami\n",
    "print(whoami())\n"
   ]
  },
  {
   "cell_type": "code",
   "execution_count": null,
   "id": "28228322-5973-4006-93af-962c117fac8a",
   "metadata": {},
   "outputs": [
    {
     "data": {
      "application/vnd.jupyter.widget-view+json": {
       "model_id": "d155edad2f3b4ba49fc7108a4379a61d",
       "version_major": 2,
       "version_minor": 0
      },
      "text/plain": [
       "config.json:   0%|          | 0.00/571 [00:00<?, ?B/s]"
      ]
     },
     "metadata": {},
     "output_type": "display_data"
    },
    {
     "data": {
      "application/vnd.jupyter.widget-view+json": {
       "model_id": "512be71849f244109be94dacc7c797f8",
       "version_major": 2,
       "version_minor": 0
      },
      "text/plain": [
       "model.safetensors.index.json:   0%|          | 0.00/25.1k [00:00<?, ?B/s]"
      ]
     },
     "metadata": {},
     "output_type": "display_data"
    },
    {
     "data": {
      "application/vnd.jupyter.widget-view+json": {
       "model_id": "b45ea171665b4aac9be67460e9d3f8c8",
       "version_major": 2,
       "version_minor": 0
      },
      "text/plain": [
       "Downloading shards:   0%|          | 0/2 [00:00<?, ?it/s]"
      ]
     },
     "metadata": {},
     "output_type": "display_data"
    },
    {
     "data": {
      "application/vnd.jupyter.widget-view+json": {
       "model_id": "30c1072034664fe29625edbcf8590812",
       "version_major": 2,
       "version_minor": 0
      },
      "text/plain": [
       "model-00001-of-00002.safetensors:   0%|          | 0.00/9.94G [00:00<?, ?B/s]"
      ]
     },
     "metadata": {},
     "output_type": "display_data"
    }
   ],
   "source": [
    "import requests\n",
    "import pandas as pd\n",
    "import numpy as np\n",
    "from sklearn.model_selection import train_test_split, GridSearchCV\n",
    "from sklearn.metrics import mean_absolute_error\n",
    "import xgboost as xgb  # Import XGBoost\n",
    "from transformers import pipeline  # Import Hugging Face for AI reasoning\n",
    "\n",
    "# Load Mistral AI model for reasoning\n",
    "ai_model = pipeline(\"text-generation\", model=\"mistralai/Mistral-7B-v0.1\", device=\"cuda\")\n",
    "\n",
    "# 🌍 NASA Exoplanet Archive API (Baseline Data)\n",
    "NASA_ARCHIVE_URL = \"https://exoplanetarchive.ipac.caltech.edu/TAP/sync?query=select+pl_name,pl_rade,pl_bmasse,pl_orbper,pl_eqt,st_teff,st_mass,st_rad,st_met+from+pscomppars&format=json\"\n",
    "\n",
    "def fetch_data(url):\n",
    "    try:\n",
    "        response = requests.get(url, timeout=10)\n",
    "        if response.status_code == 200:\n",
    "            return response.json()\n",
    "        else:\n",
    "            print(f\"❌ Failed to fetch data. Status Code: {response.status_code}\")\n",
    "            return []\n",
    "    except requests.exceptions.RequestException as e:\n",
    "        print(f\"❌ Request failed: {e}\")\n",
    "        return []\n",
    "\n",
    "# Fetch and process data\n",
    "nasa_data = fetch_data(NASA_ARCHIVE_URL)\n",
    "df = pd.DataFrame(nasa_data)\n",
    "if df.empty:\n",
    "    raise ValueError(\"❌ NASA data fetch failed. Cannot proceed.\")\n",
    "\n",
    "numeric_columns = ['pl_rade', 'pl_bmasse', 'pl_orbper', 'pl_eqt', 'st_teff', 'st_mass', 'st_rad', 'st_met']\n",
    "df[numeric_columns] = df[numeric_columns].apply(pd.to_numeric, errors='coerce')\n",
    "df = df.dropna(subset=numeric_columns)  # Remove rows with missing values\n",
    "\n",
    "# 🧠 Habitability Scoring Functions\n",
    "def mass_score(mass):\n",
    "    return mass * 10 if mass <= 2 else (20 - (mass - 2) * 5 if mass <= 5 else 0)\n",
    "\n",
    "def star_score(teff):\n",
    "    return max(0, (7000 - abs(teff - 5800)) / 100) if 5000 <= teff <= 7000 else 0\n",
    "\n",
    "def stability_score(orbital_period):\n",
    "    return min(10, 10 - abs(orbital_period - 365) / 50) if 50 <= orbital_period <= 500 else 0\n",
    "\n",
    "def atmosphere_potential(mass, radius):\n",
    "    if mass <= 0.5:\n",
    "        return 0\n",
    "    elif mass <= 2.5:\n",
    "        return 10\n",
    "    return 2 if mass > 5 else 5\n",
    "\n",
    "def terraformability_score(row):\n",
    "    if row['pl_rade'] > 3:\n",
    "        return 0\n",
    "    gravity_score = max(0, 10 - abs(row['pl_bmasse'] - 1) * 2)\n",
    "    temp_score = max(0, 10 - abs(row['pl_eqt'] - 288) / 10) if 230 <= row['pl_eqt'] <= 330 else 0\n",
    "    atmosphere_score = atmosphere_potential(row['pl_bmasse'], row['pl_rade'])\n",
    "    water_score = 10 if 273 <= row['pl_eqt'] <= 373 else 0\n",
    "    return min(100, (gravity_score + temp_score + atmosphere_score + water_score) * 2.5)\n",
    "\n",
    "def rule_based_score(row):\n",
    "    if row['pl_rade'] > 3:\n",
    "        return 0\n",
    "    mass_component = mass_score(row['pl_bmasse'])\n",
    "    temp_component = max(0, (300 - abs(row['pl_eqt'] - 300)) / 3) if 200 <= row['pl_eqt'] <= 400 else 0\n",
    "    star_component = star_score(row['st_teff'])\n",
    "    orbit_component = stability_score(row['pl_orbper'])\n",
    "    return min(100, mass_component + temp_component + star_component + orbit_component)\n",
    "\n",
    "df['rule_habitability_score'] = df.apply(rule_based_score, axis=1)\n",
    "df['terraformability_score'] = df.apply(terraformability_score, axis=1)\n",
    "\n",
    "# ✅ Train XGBoost Model\n",
    "X = df[numeric_columns]\n",
    "y = df['rule_habitability_score']\n",
    "X_train, X_test, y_train, y_test = train_test_split(X, y, test_size=0.2, random_state=42)\n",
    "\n",
    "xgb_model = xgb.XGBRegressor()\n",
    "param_grid = {'n_estimators': [100, 200, 300], 'learning_rate': [0.01, 0.05, 0.1], 'max_depth': [3, 5, 7]}\n",
    "\n",
    "grid_search = GridSearchCV(xgb_model, param_grid, cv=3, scoring='neg_mean_absolute_error', n_jobs=-1, verbose=1)\n",
    "grid_search.fit(X_train, y_train)\n",
    "\n",
    "best_model = grid_search.best_estimator_\n",
    "y_pred = best_model.predict(X_test)\n",
    "print(f\"\\n✅ Best Parameters: {grid_search.best_params_}\")\n",
    "print(f\"📊 Mean Absolute Error: {mean_absolute_error(y_test, y_pred):.2f}\")\n",
    "\n",
    "# 🌍 AI Reasoning Function\n",
    "def generate_reasoning(planet_data):\n",
    "    prompt = f\"\"\"\n",
    "    Analyze the habitability of {planet_data['pl_name']} based on its characteristics:\n",
    "    - Mass: {planet_data['pl_bmasse']} Earth masses\n",
    "    - Radius: {planet_data['pl_rade']} Earth radii\n",
    "    - Temperature: {planet_data['pl_eqt']} K\n",
    "    - Orbital Period: {planet_data['pl_orbper']} days\n",
    "    - Host Star Temperature: {planet_data['st_teff']} K\n",
    "    Explain why this planet may or may not be habitable.\n",
    "    \"\"\"\n",
    "    response = ai_model(prompt, max_length=250, do_sample=True)\n",
    "    return response[0]['generated_text']\n",
    "\n",
    "# 🌍 Habitability Prediction\n",
    "def predict_habitability(planet_data):\n",
    "    planet_features = pd.DataFrame([planet_data[numeric_columns].astype(float)], columns=numeric_columns)\n",
    "    prediction = best_model.predict(planet_features)[0]\n",
    "    return round(max(0, min(100, prediction)), 2)\n",
    "\n",
    "def main():\n",
    "    while True:\n",
    "        planet_name = input(\"\\nEnter exoplanet name (or 'exit' to quit): \").strip()\n",
    "        if planet_name.lower() == 'exit':\n",
    "            print(\"\\n👋 Exiting program. Goodbye!\")\n",
    "            break\n",
    "\n",
    "        planet_data = df[df['pl_name'].str.lower() == planet_name.lower()]\n",
    "        if planet_data.empty:\n",
    "            print(\"\\n❌ Planet not found in the database. Try again.\")\n",
    "            continue\n",
    "\n",
    "        planet_data = planet_data.iloc[0]\n",
    "        ml_score = predict_habitability(planet_data)\n",
    "        rule_score = planet_data['rule_habitability_score']\n",
    "        terra_score = planet_data['terraformability_score']\n",
    "        ai_reasoning = generate_reasoning(planet_data)\n",
    "\n",
    "        print(f\"\\n🌍 ML Habitability Prediction for {planet_name}: {ml_score}%\")\n",
    "        print(f\"🔬 Rule-Based Habitability Score: {rule_score}%\")\n",
    "        print(f\"🌱 Terraformability Score: {terra_score}%\")\n",
    "        print(f\"🤖 AI Reasoning: {ai_reasoning}\\n\")\n",
    "\n",
    "if __name__ == \"__main__\":\n",
    "    main()\n"
   ]
  },
  {
   "cell_type": "code",
   "execution_count": null,
   "id": "1a774abe-ff2e-445c-bd51-fa6b472021c7",
   "metadata": {},
   "outputs": [],
   "source": []
  },
  {
   "cell_type": "code",
   "execution_count": null,
   "id": "11424915-6d86-40a4-a57e-0b623ddc640d",
   "metadata": {},
   "outputs": [],
   "source": []
  }
 ],
 "metadata": {
  "kernelspec": {
   "display_name": "Python 3 (ipykernel)",
   "language": "python",
   "name": "python3"
  },
  "language_info": {
   "codemirror_mode": {
    "name": "ipython",
    "version": 3
   },
   "file_extension": ".py",
   "mimetype": "text/x-python",
   "name": "python",
   "nbconvert_exporter": "python",
   "pygments_lexer": "ipython3",
   "version": "3.13.1"
  }
 },
 "nbformat": 4,
 "nbformat_minor": 5
}
