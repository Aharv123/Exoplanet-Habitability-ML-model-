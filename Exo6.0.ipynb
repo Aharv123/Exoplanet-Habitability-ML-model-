{
 "cells": [
  {
   "cell_type": "code",
   "execution_count": 1,
   "metadata": {
    "colab": {
     "base_uri": "https://localhost:8080/"
    },
    "id": "4TdoDFhjyWRz",
    "outputId": "ccba0b06-e4d0-44c7-dc48-6b322b2b395d"
   },
   "outputs": [
    {
     "name": "stdout",
     "output_type": "stream",
     "text": [
      "Requirement already satisfied: transformers in c:\\users\\atharv\\appdata\\local\\programs\\python\\python311\\lib\\site-packages (4.49.0)\n",
      "Requirement already satisfied: xgboost in c:\\users\\atharv\\appdata\\local\\programs\\python\\python311\\lib\\site-packages (2.1.4)\n",
      "Requirement already satisfied: scikit-learn in c:\\users\\atharv\\appdata\\local\\programs\\python\\python311\\lib\\site-packages (1.6.1)\n",
      "Requirement already satisfied: pandas in c:\\users\\atharv\\appdata\\local\\programs\\python\\python311\\lib\\site-packages (2.2.3)\n",
      "Requirement already satisfied: numpy in c:\\users\\atharv\\appdata\\local\\programs\\python\\python311\\lib\\site-packages (1.26.4)\n",
      "Requirement already satisfied: requests in c:\\users\\atharv\\appdata\\local\\programs\\python\\python311\\lib\\site-packages (2.32.3)\n",
      "Requirement already satisfied: filelock in c:\\users\\atharv\\appdata\\local\\programs\\python\\python311\\lib\\site-packages (from transformers) (3.13.1)\n",
      "Requirement already satisfied: huggingface-hub<1.0,>=0.26.0 in c:\\users\\atharv\\appdata\\local\\programs\\python\\python311\\lib\\site-packages (from transformers) (0.29.3)\n",
      "Requirement already satisfied: packaging>=20.0 in c:\\users\\atharv\\appdata\\local\\programs\\python\\python311\\lib\\site-packages (from transformers) (24.2)\n",
      "Requirement already satisfied: pyyaml>=5.1 in c:\\users\\atharv\\appdata\\local\\programs\\python\\python311\\lib\\site-packages (from transformers) (6.0.2)\n",
      "Requirement already satisfied: regex!=2019.12.17 in c:\\users\\atharv\\appdata\\local\\programs\\python\\python311\\lib\\site-packages (from transformers) (2024.11.6)\n",
      "Requirement already satisfied: tokenizers<0.22,>=0.21 in c:\\users\\atharv\\appdata\\local\\programs\\python\\python311\\lib\\site-packages (from transformers) (0.21.1)\n",
      "Requirement already satisfied: safetensors>=0.4.1 in c:\\users\\atharv\\appdata\\local\\programs\\python\\python311\\lib\\site-packages (from transformers) (0.4.1)\n",
      "Requirement already satisfied: tqdm>=4.27 in c:\\users\\atharv\\appdata\\local\\programs\\python\\python311\\lib\\site-packages (from transformers) (4.67.1)\n",
      "Requirement already satisfied: scipy in c:\\users\\atharv\\appdata\\local\\programs\\python\\python311\\lib\\site-packages (from xgboost) (1.15.2)\n",
      "Requirement already satisfied: joblib>=1.2.0 in c:\\users\\atharv\\appdata\\local\\programs\\python\\python311\\lib\\site-packages (from scikit-learn) (1.4.2)\n",
      "Requirement already satisfied: threadpoolctl>=3.1.0 in c:\\users\\atharv\\appdata\\local\\programs\\python\\python311\\lib\\site-packages (from scikit-learn) (3.6.0)\n",
      "Requirement already satisfied: python-dateutil>=2.8.2 in c:\\users\\atharv\\appdata\\local\\programs\\python\\python311\\lib\\site-packages (from pandas) (2.9.0.post0)\n",
      "Requirement already satisfied: pytz>=2020.1 in c:\\users\\atharv\\appdata\\local\\programs\\python\\python311\\lib\\site-packages (from pandas) (2025.1)\n",
      "Requirement already satisfied: tzdata>=2022.7 in c:\\users\\atharv\\appdata\\local\\programs\\python\\python311\\lib\\site-packages (from pandas) (2025.1)\n",
      "Requirement already satisfied: charset-normalizer<4,>=2 in c:\\users\\atharv\\appdata\\local\\programs\\python\\python311\\lib\\site-packages (from requests) (3.4.1)\n",
      "Requirement already satisfied: idna<4,>=2.5 in c:\\users\\atharv\\appdata\\local\\programs\\python\\python311\\lib\\site-packages (from requests) (3.10)\n",
      "Requirement already satisfied: urllib3<3,>=1.21.1 in c:\\users\\atharv\\appdata\\local\\programs\\python\\python311\\lib\\site-packages (from requests) (2.3.0)\n",
      "Requirement already satisfied: certifi>=2017.4.17 in c:\\users\\atharv\\appdata\\local\\programs\\python\\python311\\lib\\site-packages (from requests) (2025.1.31)\n",
      "Requirement already satisfied: fsspec>=2023.5.0 in c:\\users\\atharv\\appdata\\local\\programs\\python\\python311\\lib\\site-packages (from huggingface-hub<1.0,>=0.26.0->transformers) (2024.6.1)\n",
      "Requirement already satisfied: typing-extensions>=3.7.4.3 in c:\\users\\atharv\\appdata\\local\\programs\\python\\python311\\lib\\site-packages (from huggingface-hub<1.0,>=0.26.0->transformers) (4.12.2)\n",
      "Requirement already satisfied: six>=1.5 in c:\\users\\atharv\\appdata\\local\\programs\\python\\python311\\lib\\site-packages (from python-dateutil>=2.8.2->pandas) (1.17.0)\n",
      "Requirement already satisfied: colorama in c:\\users\\atharv\\appdata\\local\\programs\\python\\python311\\lib\\site-packages (from tqdm>=4.27->transformers) (0.4.6)\n"
     ]
    },
    {
     "name": "stderr",
     "output_type": "stream",
     "text": [
      "\n",
      "[notice] A new release of pip is available: 24.0 -> 25.0.1\n",
      "[notice] To update, run: python.exe -m pip install --upgrade pip\n"
     ]
    }
   ],
   "source": [
    "!pip install transformers xgboost scikit-learn pandas numpy requests\n"
   ]
  },
  {
   "cell_type": "code",
   "execution_count": 2,
   "metadata": {
    "colab": {
     "base_uri": "https://localhost:8080/"
    },
    "id": "hQr0tTTZzaNv",
    "outputId": "190ce5ce-7058-4038-ec2a-aefa4f46f109"
   },
   "outputs": [
    {
     "name": "stdout",
     "output_type": "stream",
     "text": [
      "❌ Model Not Found: Astro-GPT is not a local folder and is not a valid model identifier listed on 'https://huggingface.co/models'\n",
      "If this is a private repository, make sure to pass a token having permission to this repo either by logging in with `huggingface-cli login` or by passing `token=<your_token>`\n"
     ]
    }
   ],
   "source": [
    "from transformers import pipeline\n",
    "\n",
    "model_id = \"Astro-GPT\"  # Check if this is the correct model name\n",
    "try:\n",
    "    test_pipeline = pipeline(\"text-generation\", model=model_id)\n",
    "    print(\"✅ Model Loaded Successfully!\")\n",
    "except Exception as e:\n",
    "    print(f\"❌ Model Not Found: {e}\")\n"
   ]
  },
  {
   "cell_type": "code",
   "execution_count": 4,
   "metadata": {
    "colab": {
     "base_uri": "https://localhost:8080/",
     "height": 17,
     "referenced_widgets": [
      "80e60e3aa1f14935a2bab71c2c3603cb",
      "c4fe0a613648446a95f621be573f2f18",
      "dfa3def4d0fc4c5896d86e229fb73b0b",
      "0ad2ee7b7c1146af9e7d86eb41c052ca",
      "a0bffde5c7844b35afa176fa01d7c73b",
      "7b3ee983db9c4f78b650eb837e57dd20",
      "9847d9c620154c4f88b12b665c5b024b",
      "5a7d1ccafbdb41aeae24f5b6ce754218",
      "8249ad273830410bb9b72a9b1822f680",
      "7c033a54d8b542c7a23b59c364e9c429",
      "487c8f5dc81343eabf88aa1500723845",
      "0b60cb84640d47dba8a825d66703e636",
      "d4f8ee20916b4b7ca47e1508d6612c6f",
      "48c6b223750e48228e06c7e15edbd94c",
      "e28b74abd21b4e2cb82679688cd99b12",
      "bb3e25b535324a11a3b278bc1baa22c5",
      "77ac61ebe1a34fae93cd7558e53d9621",
      "e2c31ef4512a49768164f3f24acf98a6",
      "20fc36647d734e71ae6816cd79cbd6ee",
      "594843dbe05b467e84d22ae57fe446ad"
     ]
    },
    "id": "EJ5Gip8Cztij",
    "outputId": "5d3d9a3f-21f1-4ce8-bf1a-a5d89edd3235"
   },
   "outputs": [
    {
     "data": {
      "application/vnd.jupyter.widget-view+json": {
       "model_id": "86e4f2954d73433fa5416a3a35855146",
       "version_major": 2,
       "version_minor": 0
      },
      "text/plain": [
       "VBox(children=(HTML(value='<center> <img\\nsrc=https://huggingface.co/front/assets/huggingface_logo-noborder.sv…"
      ]
     },
     "metadata": {},
     "output_type": "display_data"
    }
   ],
   "source": [
    "from huggingface_hub import login\n",
    "login()  # Paste your token when prompted\n"
   ]
  },
  {
   "cell_type": "code",
   "execution_count": null,
   "metadata": {
    "colab": {
     "base_uri": "https://localhost:8080/",
     "height": 1000
    },
    "id": "b642iAAZzAnF",
    "outputId": "17e1d69a-2fd7-480a-adee-fdde2f0067e9"
   },
   "outputs": [
    {
     "data": {
      "application/vnd.jupyter.widget-view+json": {
       "model_id": "c14ac549ebd9472c9fdd2d4743e55d25",
       "version_major": 2,
       "version_minor": 0
      },
      "text/plain": [
       "config.json:   0%|          | 0.00/789 [00:00<?, ?B/s]"
      ]
     },
     "metadata": {},
     "output_type": "display_data"
    },
    {
     "data": {
      "application/vnd.jupyter.widget-view+json": {
       "model_id": "610b2ab307a04ce1ae1854e5ec98aa41",
       "version_major": 2,
       "version_minor": 0
      },
      "text/plain": [
       "pytorch_model.bin:   0%|          | 0.00/2.63G [00:00<?, ?B/s]"
      ]
     },
     "metadata": {},
     "output_type": "display_data"
    },
    {
     "data": {
      "application/vnd.jupyter.widget-view+json": {
       "model_id": "76dd06b97f4a42b989a9d4b2b7e87674",
       "version_major": 2,
       "version_minor": 0
      },
      "text/plain": [
       "model.safetensors:   0%|          | 0.00/2.63G [00:00<?, ?B/s]"
      ]
     },
     "metadata": {},
     "output_type": "display_data"
    },
    {
     "data": {
      "application/vnd.jupyter.widget-view+json": {
       "model_id": "42322395873243e2b3d0415f74bf6105",
       "version_major": 2,
       "version_minor": 0
      },
      "text/plain": [
       "generation_config.json:   0%|          | 0.00/137 [00:00<?, ?B/s]"
      ]
     },
     "metadata": {},
     "output_type": "display_data"
    },
    {
     "data": {
      "application/vnd.jupyter.widget-view+json": {
       "model_id": "d98e3d4e10234c33a7a1cd539df8c2be",
       "version_major": 2,
       "version_minor": 0
      },
      "text/plain": [
       "tokenizer_config.json:   0%|          | 0.00/166 [00:00<?, ?B/s]"
      ]
     },
     "metadata": {},
     "output_type": "display_data"
    },
    {
     "data": {
      "application/vnd.jupyter.widget-view+json": {
       "model_id": "219362fa0a644ace823693989a27d299",
       "version_major": 2,
       "version_minor": 0
      },
      "text/plain": [
       "tokenizer.json:   0%|          | 0.00/2.14M [00:00<?, ?B/s]"
      ]
     },
     "metadata": {},
     "output_type": "display_data"
    },
    {
     "data": {
      "application/vnd.jupyter.widget-view+json": {
       "model_id": "94c85e1e055c4d209581826ae2123631",
       "version_major": 2,
       "version_minor": 0
      },
      "text/plain": [
       "special_tokens_map.json:   0%|          | 0.00/3.00 [00:00<?, ?B/s]"
      ]
     },
     "metadata": {},
     "output_type": "display_data"
    },
    {
     "name": "stderr",
     "output_type": "stream",
     "text": [
      "Device set to use cuda:0\n"
     ]
    },
    {
     "name": "stdout",
     "output_type": "stream",
     "text": [
      "Fitting 3 folds for each of 27 candidates, totalling 81 fits\n",
      "\n",
      "✅ Best Parameters: {'learning_rate': 0.05, 'max_depth': 7, 'n_estimators': 300}\n",
      "📊 Mean Absolute Error: 0.78\n"
     ]
    },
    {
     "name": "stdin",
     "output_type": "stream",
     "text": [
      "\n",
      "Enter exoplanet name (or 'exit' to quit):  Kepler-442 b\n"
     ]
    },
    {
     "name": "stdout",
     "output_type": "stream",
     "text": [
      "\n",
      "🌍 ML Habitability Prediction: 99.91999816894531%\n",
      "🔬 Rule-Based Habitability Score: 100.0%\n",
      "🌱 Terraformability Score: 56.449999999999996%\n",
      "🤖 AI Reasoning:\n",
      "\n",
      "### Features & Properties:\n",
      "Mass: 2.36 Earth masses\n",
      "Radius: 1.34 Earth radii\n",
      "Temperature: 241.0 K\n",
      "Orbital Period: 112.3053 days\n",
      "Host Star Temperature: 4402.0 K\n",
      "\n",
      "### Life Support Analysis:\n",
      "Kepler-442 b has a habitability score of 100.0%. Based on this score, discuss its potential for life.\n",
      "\n",
      "### Terraforming Potential:\n",
      "Analyze its terraformability score of 56.449999999999996% and suggest possible methods for making it habitable.\n",
      "\n",
      "### Conclusion:\n",
      "Determine whether Kepler-442 b is a strong, moderate, or low candidate for future exploration or colonization.\n",
      "\n",
      "\n",
      "\n",
      "## Planetary Characteristics:\n",
      "\n",
      "Stellar Metallicity Upper Unc. [dex]: 0.3\n",
      "System Parameter Reference: <a refstr=STASSUN_ET_AL__2019 href=https://ui.adsabs.harvard.edu/abs/2019AJ....158..138S/abstract target=ref>TICv8</a>\n",
      "Stellar Metallicity Lower Unc. [dex]: -0.3\n",
      "Systemic Radial Velocity Upper Unc. [km/s]: 0.01\n",
      "TESS Magnitude Upper Unc: 0.0085\n",
      "Stellar Age Upper Unc. [Gyr]: 1.7\n",
      "Ratio of Semi-Major Axis to Stellar Radius Upper Unc.: 3.3\n",
      "TESS Magnitude Lower Unc: -0.0085\n",
      "Ratio of Planet to Stellar Radius Upper Unc.: 0.0002\n",
      "Stellar Radius Upper Unc. [Solar Radius]: 0.08\n",
      "Detected by Transits: 1\n",
      "Stellar Density Upper Unc. [g/cm**3]: 1.7\n",
      "Planetary Parameter Reference Publication Date: 2022-07\n",
      "Ratio of Planet to Stellar Radius: 0.01213\n",
      "Stellar Surface Gravity [log10(cm/s**2)]: 4.2\n",
      "Pl\n",
      "\n"
     ]
    },
    {
     "name": "stdin",
     "output_type": "stream",
     "text": [
      "\n",
      "Enter exoplanet name (or 'exit' to quit):  Kepler-422 b\n"
     ]
    },
    {
     "name": "stdout",
     "output_type": "stream",
     "text": [
      "\n",
      "🌍 ML Habitability Prediction: 0.009999999776482582%\n",
      "🔬 Rule-Based Habitability Score: 0.0%\n",
      "🌱 Terraformability Score: 0.0%\n",
      "🤖 AI Reasoning:\n",
      "\n",
      "### Features & Properties:\n",
      "Mass: 136.66 Earth masses\n",
      "Radius: 12.89 Earth radii\n",
      "Temperature: 1028.0 K\n",
      "Orbital Period: 7.8914483 days\n",
      "Host Star Temperature: 5972.0 K\n",
      "\n",
      "### Life Support Analysis:\n",
      "Kepler-422 b has a habitability score of 0.0%. Based on this score, discuss its potential for life.\n",
      "\n",
      "### Terraforming Potential:\n",
      "Analyze its terraformability score of 0.0% and suggest possible methods for making it habitable.\n",
      "\n",
      "### Conclusion:\n",
      "Determine whether Kepler-422 b is a strong, moderate, or low candidate for future exploration or colonization.\n",
      "\n",
      "### Multilingual/Multilinguistic Progress\n",
      "\n",
      "[<img src=\"https://img.shields.io/badge/\" style=\"height: 512px; border-right: solid #c3c3c3\" href=\"https://github.com/fredryandreas/python-hacks-for-pycharm\">](https://github.com/fredryandreas/python-hacks-for-pycharm)  \n",
      "\n"
     ]
    }
   ],
   "source": [
    "import requests\n",
    "import pandas as pd\n",
    "import numpy as np\n",
    "from sklearn.model_selection import train_test_split, GridSearchCV\n",
    "from sklearn.metrics import mean_absolute_error\n",
    "import xgboost as xgb  # Import XGBoost\n",
    "from transformers import pipeline  # Import Hugging Face for AI reasoning\n",
    "\n",
    "# Load Galactica-1.3B for scientific reasoning\n",
    "ai_model = pipeline(\"text-generation\", model=\"facebook/galactica-1.3b\", device=0)\n",
    "\n",
    "# 🌍 NASA Exoplanet Archive API (Baseline Data)\n",
    "NASA_ARCHIVE_URL = \"https://exoplanetarchive.ipac.caltech.edu/TAP/sync?query=select+pl_name,pl_rade,pl_bmasse,pl_orbper,pl_eqt,st_teff,st_mass,st_rad,st_met+from+pscomppars&format=json\"\n",
    "\n",
    "def fetch_data(url):\n",
    "    try:\n",
    "        response = requests.get(url, timeout=10)\n",
    "        if response.status_code == 200:\n",
    "            return response.json()\n",
    "        else:\n",
    "            print(f\"❌ Failed to fetch data. Status Code: {response.status_code}\")\n",
    "            return []\n",
    "    except requests.exceptions.RequestException as e:\n",
    "        print(f\"❌ Request failed: {e}\")\n",
    "        return []\n",
    "\n",
    "# Fetch and process data\n",
    "nasa_data = fetch_data(NASA_ARCHIVE_URL)\n",
    "df = pd.DataFrame(nasa_data)\n",
    "if df.empty:\n",
    "    raise ValueError(\"❌ NASA data fetch failed. Cannot proceed.\")\n",
    "\n",
    "numeric_columns = ['pl_rade', 'pl_bmasse', 'pl_orbper', 'pl_eqt', 'st_teff', 'st_mass', 'st_rad', 'st_met']\n",
    "df[numeric_columns] = df[numeric_columns].apply(pd.to_numeric, errors='coerce')\n",
    "df = df.dropna(subset=numeric_columns)  # Remove rows with missing values\n",
    "\n",
    "# 🧠 Habitability Scoring Functions\n",
    "def mass_score(mass):\n",
    "    return mass * 10 if mass <= 2 else (20 - (mass - 2) * 5 if mass <= 5 else 0)\n",
    "\n",
    "def star_score(teff):\n",
    "    return max(0, (7000 - abs(teff - 5800)) / 100) if 5000 <= teff <= 7000 else 0\n",
    "\n",
    "def stability_score(orbital_period):\n",
    "    return min(10, 10 - abs(orbital_period - 365) / 50) if 50 <= orbital_period <= 500 else 0\n",
    "\n",
    "def atmosphere_potential(mass, radius):\n",
    "    if mass <= 0.5:\n",
    "        return 0\n",
    "    elif mass <= 2.5:\n",
    "        return 10\n",
    "    return 2 if mass > 5 else 5\n",
    "\n",
    "def terraformability_score(row):\n",
    "    if row['pl_rade'] > 3:\n",
    "        return 0\n",
    "    gravity_score = max(0, 10 - abs(row['pl_bmasse'] - 1) * 2)\n",
    "    temp_score = max(0, 10 - abs(row['pl_eqt'] - 288) / 10) if 230 <= row['pl_eqt'] <= 330 else 0\n",
    "    atmosphere_score = atmosphere_potential(row['pl_bmasse'], row['pl_rade'])\n",
    "    water_score = 10 if 273 <= row['pl_eqt'] <= 373 else 0\n",
    "    return min(100, (gravity_score + temp_score + atmosphere_score + water_score) * 2.5)\n",
    "\n",
    "def rule_based_score(row):\n",
    "    if row['pl_rade'] > 3:\n",
    "        return 0\n",
    "    mass_component = mass_score(row['pl_bmasse'])\n",
    "    temp_component = max(0, (300 - abs(row['pl_eqt'] - 300)) / 3) if 200 <= row['pl_eqt'] <= 400 else 0\n",
    "    star_component = star_score(row['st_teff'])\n",
    "    orbit_component = stability_score(row['pl_orbper'])\n",
    "    return min(100, mass_component + temp_component + star_component + orbit_component)\n",
    "\n",
    "df['rule_habitability_score'] = df.apply(rule_based_score, axis=1)\n",
    "df['terraformability_score'] = df.apply(terraformability_score, axis=1)\n",
    "\n",
    "# ✅ Train XGBoost Model\n",
    "X = df[numeric_columns]\n",
    "y = df['rule_habitability_score']\n",
    "X_train, X_test, y_train, y_test = train_test_split(X, y, test_size=0.2, random_state=42)\n",
    "\n",
    "xgb_model = xgb.XGBRegressor()\n",
    "param_grid = {'n_estimators': [100, 200, 300], 'learning_rate': [0.01, 0.05, 0.1], 'max_depth': [3, 5, 7]}\n",
    "\n",
    "grid_search = GridSearchCV(xgb_model, param_grid, cv=3, scoring='neg_mean_absolute_error', n_jobs=-1, verbose=1)\n",
    "grid_search.fit(X_train, y_train)\n",
    "\n",
    "best_model = grid_search.best_estimator_\n",
    "y_pred = best_model.predict(X_test)\n",
    "print(f\"\\n✅ Best Parameters: {grid_search.best_params_}\")\n",
    "print(f\"📊 Mean Absolute Error: {mean_absolute_error(y_test, y_pred):.2f}\")\n",
    "\n",
    "# 🌍 AI Reasoning Function\n",
    "def generate_reasoning(planet_data):\n",
    "    prompt = f\"\"\"\n",
    "### Features & Properties:\n",
    "Mass: {planet_data['pl_bmasse']} Earth masses\n",
    "Radius: {planet_data['pl_rade']} Earth radii\n",
    "Temperature: {planet_data['pl_eqt']} K\n",
    "Orbital Period: {planet_data['pl_orbper']} days\n",
    "Host Star Temperature: {planet_data['st_teff']} K\n",
    "\n",
    "### Life Support Analysis:\n",
    "{planet_data['pl_name']} has a habitability score of {planet_data['rule_habitability_score']}%. Based on this score, discuss its potential for life.\n",
    "\n",
    "### Terraforming Potential:\n",
    "Analyze its terraformability score of {planet_data['terraformability_score']}% and suggest possible methods for making it habitable.\n",
    "\n",
    "### Conclusion:\n",
    "Determine whether {planet_data['pl_name']} is a strong, moderate, or low candidate for future exploration or colonization.\n",
    "\"\"\"\n",
    "    response = ai_model(prompt, max_length=500, do_sample=True, truncation=True)\n",
    "    return response[0]['generated_text']\n",
    "\n",
    "def main():\n",
    "    while True:\n",
    "        planet_name = input(\"\\nEnter exoplanet name (or 'exit' to quit): \").strip()\n",
    "        if planet_name.lower() == 'exit':\n",
    "            print(\"\\n👋 Exiting program. Goodbye!\")\n",
    "            break\n",
    "\n",
    "        planet_data = df[df['pl_name'].str.lower() == planet_name.lower()]\n",
    "        if planet_data.empty:\n",
    "            print(f\"\\n❌ No detailed data found for {planet_name}. Displaying available attributes.\")\n",
    "            print(df[df['pl_name'].str.contains(planet_name, case=False, na=False)])\n",
    "            continue\n",
    "\n",
    "        planet_data = planet_data.iloc[0]\n",
    "        ml_score = round(best_model.predict(pd.DataFrame([planet_data[numeric_columns].astype(float)], columns=numeric_columns))[0], 2)\n",
    "        rule_score = planet_data['rule_habitability_score']\n",
    "        terra_score = planet_data['terraformability_score']\n",
    "        ai_reasoning = generate_reasoning(planet_data)\n",
    "\n",
    "        print(f\"\\n🌍 ML Habitability Prediction: {ml_score}%\")\n",
    "        print(f\"🔬 Rule-Based Habitability Score: {rule_score}%\")\n",
    "        print(f\"🌱 Terraformability Score: {terra_score}%\")\n",
    "        print(f\"🤖 AI Reasoning:\\n{ai_reasoning}\\n\")\n",
    "\n",
    "if __name__ == \"__main__\":\n",
    "    main()"
   ]
  },
  {
   "cell_type": "code",
   "execution_count": null,
   "metadata": {},
   "outputs": [],
   "source": [
    " total_score = mass_component + temp_component + atmosphere_component + radiation_component + magnetosphere_component\n",
    "        print(f\"🪐 Mass Component: {mass_component / total_score * 100:.2f}%\")\n",
    "        print(f\"🌡️ Temperature Component: {temp_component / total_score * 100:.2f}%\")\n",
    "        print(f\"☁️ Atmospheric Composition: {atmosphere_component / total_score * 100:.2f}%\")\n",
    "        print(f\"☀️ Stellar Radiation Factor: {radiation_component / total_score * 100:.2f}%\")\n",
    "        print(f\"🧲 Magnetosphere Strength: {magnetosphere_component / total_score * 100:.2f}%\")\n",
    "        "
   ]
  },
  {
   "cell_type": "code",
   "execution_count": null,
   "metadata": {},
   "outputs": [],
   "source": [
    "# ⚙️ Additional Factors Calculations\n",
    "def atmospheric_composition_score(row):\n",
    "    return max(0, min(20, (row['st_met'] + 0.5) * 15))\n",
    "\n",
    "def liquid_water_probability(row):\n",
    "    return max(0, min(30, (300 - abs(row['pl_eqt'] - 300)) / 3)) if 200 <= row['pl_eqt'] <= 400 else 0\n",
    "\n",
    "def magnetosphere_strength(row):\n",
    "    return max(0, min(25, (row['st_mass'] / row['pl_bmasse']) * 10))\n",
    "\n",
    "def stellar_radiation_factor(row):\n",
    "    return max(0, min(25, (6000 - row['st_teff']) / 100)) if row['st_teff'] < 6000 else 0\n",
    "    "
   ]
  }
 ],
 "metadata": {
  "accelerator": "GPU",
  "colab": {
   "gpuType": "T4",
   "provenance": []
  },
  "kernelspec": {
   "display_name": "Python 3 (ipykernel)",
   "language": "python",
   "name": "python3"
  },
  "language_info": {
   "codemirror_mode": {
    "name": "ipython",
    "version": 3
   },
   "file_extension": ".py",
   "mimetype": "text/x-python",
   "name": "python",
   "nbconvert_exporter": "python",
   "pygments_lexer": "ipython3",
   "version": "3.11.9"
  },
  "widgets": {
   "application/vnd.jupyter.widget-state+json": {
    "0ad2ee7b7c1146af9e7d86eb41c052ca": {
     "model_module": "@jupyter-widgets/controls",
     "model_module_version": "1.5.0",
     "model_name": "CheckboxModel",
     "state": {
      "_dom_classes": [],
      "_model_module": "@jupyter-widgets/controls",
      "_model_module_version": "1.5.0",
      "_model_name": "CheckboxModel",
      "_view_count": null,
      "_view_module": "@jupyter-widgets/controls",
      "_view_module_version": "1.5.0",
      "_view_name": "CheckboxView",
      "description": "Add token as git credential?",
      "description_tooltip": null,
      "disabled": false,
      "indent": true,
      "layout": "IPY_MODEL_0b60cb84640d47dba8a825d66703e636",
      "style": "IPY_MODEL_d4f8ee20916b4b7ca47e1508d6612c6f",
      "value": false
     }
    },
    "0b60cb84640d47dba8a825d66703e636": {
     "model_module": "@jupyter-widgets/base",
     "model_module_version": "1.2.0",
     "model_name": "LayoutModel",
     "state": {
      "_model_module": "@jupyter-widgets/base",
      "_model_module_version": "1.2.0",
      "_model_name": "LayoutModel",
      "_view_count": null,
      "_view_module": "@jupyter-widgets/base",
      "_view_module_version": "1.2.0",
      "_view_name": "LayoutView",
      "align_content": null,
      "align_items": null,
      "align_self": null,
      "border": null,
      "bottom": null,
      "display": null,
      "flex": null,
      "flex_flow": null,
      "grid_area": null,
      "grid_auto_columns": null,
      "grid_auto_flow": null,
      "grid_auto_rows": null,
      "grid_column": null,
      "grid_gap": null,
      "grid_row": null,
      "grid_template_areas": null,
      "grid_template_columns": null,
      "grid_template_rows": null,
      "height": null,
      "justify_content": null,
      "justify_items": null,
      "left": null,
      "margin": null,
      "max_height": null,
      "max_width": null,
      "min_height": null,
      "min_width": null,
      "object_fit": null,
      "object_position": null,
      "order": null,
      "overflow": null,
      "overflow_x": null,
      "overflow_y": null,
      "padding": null,
      "right": null,
      "top": null,
      "visibility": null,
      "width": null
     }
    },
    "20fc36647d734e71ae6816cd79cbd6ee": {
     "model_module": "@jupyter-widgets/base",
     "model_module_version": "1.2.0",
     "model_name": "LayoutModel",
     "state": {
      "_model_module": "@jupyter-widgets/base",
      "_model_module_version": "1.2.0",
      "_model_name": "LayoutModel",
      "_view_count": null,
      "_view_module": "@jupyter-widgets/base",
      "_view_module_version": "1.2.0",
      "_view_name": "LayoutView",
      "align_content": null,
      "align_items": null,
      "align_self": null,
      "border": null,
      "bottom": null,
      "display": null,
      "flex": null,
      "flex_flow": null,
      "grid_area": null,
      "grid_auto_columns": null,
      "grid_auto_flow": null,
      "grid_auto_rows": null,
      "grid_column": null,
      "grid_gap": null,
      "grid_row": null,
      "grid_template_areas": null,
      "grid_template_columns": null,
      "grid_template_rows": null,
      "height": null,
      "justify_content": null,
      "justify_items": null,
      "left": null,
      "margin": null,
      "max_height": null,
      "max_width": null,
      "min_height": null,
      "min_width": null,
      "object_fit": null,
      "object_position": null,
      "order": null,
      "overflow": null,
      "overflow_x": null,
      "overflow_y": null,
      "padding": null,
      "right": null,
      "top": null,
      "visibility": null,
      "width": null
     }
    },
    "487c8f5dc81343eabf88aa1500723845": {
     "model_module": "@jupyter-widgets/controls",
     "model_module_version": "1.5.0",
     "model_name": "DescriptionStyleModel",
     "state": {
      "_model_module": "@jupyter-widgets/controls",
      "_model_module_version": "1.5.0",
      "_model_name": "DescriptionStyleModel",
      "_view_count": null,
      "_view_module": "@jupyter-widgets/base",
      "_view_module_version": "1.2.0",
      "_view_name": "StyleView",
      "description_width": ""
     }
    },
    "48c6b223750e48228e06c7e15edbd94c": {
     "model_module": "@jupyter-widgets/base",
     "model_module_version": "1.2.0",
     "model_name": "LayoutModel",
     "state": {
      "_model_module": "@jupyter-widgets/base",
      "_model_module_version": "1.2.0",
      "_model_name": "LayoutModel",
      "_view_count": null,
      "_view_module": "@jupyter-widgets/base",
      "_view_module_version": "1.2.0",
      "_view_name": "LayoutView",
      "align_content": null,
      "align_items": null,
      "align_self": null,
      "border": null,
      "bottom": null,
      "display": null,
      "flex": null,
      "flex_flow": null,
      "grid_area": null,
      "grid_auto_columns": null,
      "grid_auto_flow": null,
      "grid_auto_rows": null,
      "grid_column": null,
      "grid_gap": null,
      "grid_row": null,
      "grid_template_areas": null,
      "grid_template_columns": null,
      "grid_template_rows": null,
      "height": null,
      "justify_content": null,
      "justify_items": null,
      "left": null,
      "margin": null,
      "max_height": null,
      "max_width": null,
      "min_height": null,
      "min_width": null,
      "object_fit": null,
      "object_position": null,
      "order": null,
      "overflow": null,
      "overflow_x": null,
      "overflow_y": null,
      "padding": null,
      "right": null,
      "top": null,
      "visibility": null,
      "width": null
     }
    },
    "594843dbe05b467e84d22ae57fe446ad": {
     "model_module": "@jupyter-widgets/controls",
     "model_module_version": "1.5.0",
     "model_name": "DescriptionStyleModel",
     "state": {
      "_model_module": "@jupyter-widgets/controls",
      "_model_module_version": "1.5.0",
      "_model_name": "DescriptionStyleModel",
      "_view_count": null,
      "_view_module": "@jupyter-widgets/base",
      "_view_module_version": "1.2.0",
      "_view_name": "StyleView",
      "description_width": ""
     }
    },
    "5a7d1ccafbdb41aeae24f5b6ce754218": {
     "model_module": "@jupyter-widgets/base",
     "model_module_version": "1.2.0",
     "model_name": "LayoutModel",
     "state": {
      "_model_module": "@jupyter-widgets/base",
      "_model_module_version": "1.2.0",
      "_model_name": "LayoutModel",
      "_view_count": null,
      "_view_module": "@jupyter-widgets/base",
      "_view_module_version": "1.2.0",
      "_view_name": "LayoutView",
      "align_content": null,
      "align_items": null,
      "align_self": null,
      "border": null,
      "bottom": null,
      "display": null,
      "flex": null,
      "flex_flow": null,
      "grid_area": null,
      "grid_auto_columns": null,
      "grid_auto_flow": null,
      "grid_auto_rows": null,
      "grid_column": null,
      "grid_gap": null,
      "grid_row": null,
      "grid_template_areas": null,
      "grid_template_columns": null,
      "grid_template_rows": null,
      "height": null,
      "justify_content": null,
      "justify_items": null,
      "left": null,
      "margin": null,
      "max_height": null,
      "max_width": null,
      "min_height": null,
      "min_width": null,
      "object_fit": null,
      "object_position": null,
      "order": null,
      "overflow": null,
      "overflow_x": null,
      "overflow_y": null,
      "padding": null,
      "right": null,
      "top": null,
      "visibility": null,
      "width": null
     }
    },
    "77ac61ebe1a34fae93cd7558e53d9621": {
     "model_module": "@jupyter-widgets/controls",
     "model_module_version": "1.5.0",
     "model_name": "DescriptionStyleModel",
     "state": {
      "_model_module": "@jupyter-widgets/controls",
      "_model_module_version": "1.5.0",
      "_model_name": "DescriptionStyleModel",
      "_view_count": null,
      "_view_module": "@jupyter-widgets/base",
      "_view_module_version": "1.2.0",
      "_view_name": "StyleView",
      "description_width": ""
     }
    },
    "7b3ee983db9c4f78b650eb837e57dd20": {
     "model_module": "@jupyter-widgets/controls",
     "model_module_version": "1.5.0",
     "model_name": "HTMLModel",
     "state": {
      "_dom_classes": [],
      "_model_module": "@jupyter-widgets/controls",
      "_model_module_version": "1.5.0",
      "_model_name": "HTMLModel",
      "_view_count": null,
      "_view_module": "@jupyter-widgets/controls",
      "_view_module_version": "1.5.0",
      "_view_name": "HTMLView",
      "description": "",
      "description_tooltip": null,
      "layout": "IPY_MODEL_bb3e25b535324a11a3b278bc1baa22c5",
      "placeholder": "​",
      "style": "IPY_MODEL_77ac61ebe1a34fae93cd7558e53d9621",
      "value": "\n<b>Pro Tip:</b> If you don't already have one, you can create a dedicated\n'notebooks' token with 'write' access, that you can then easily reuse for all\nnotebooks. </center>"
     }
    },
    "7c033a54d8b542c7a23b59c364e9c429": {
     "model_module": "@jupyter-widgets/base",
     "model_module_version": "1.2.0",
     "model_name": "LayoutModel",
     "state": {
      "_model_module": "@jupyter-widgets/base",
      "_model_module_version": "1.2.0",
      "_model_name": "LayoutModel",
      "_view_count": null,
      "_view_module": "@jupyter-widgets/base",
      "_view_module_version": "1.2.0",
      "_view_name": "LayoutView",
      "align_content": null,
      "align_items": null,
      "align_self": null,
      "border": null,
      "bottom": null,
      "display": null,
      "flex": null,
      "flex_flow": null,
      "grid_area": null,
      "grid_auto_columns": null,
      "grid_auto_flow": null,
      "grid_auto_rows": null,
      "grid_column": null,
      "grid_gap": null,
      "grid_row": null,
      "grid_template_areas": null,
      "grid_template_columns": null,
      "grid_template_rows": null,
      "height": null,
      "justify_content": null,
      "justify_items": null,
      "left": null,
      "margin": null,
      "max_height": null,
      "max_width": null,
      "min_height": null,
      "min_width": null,
      "object_fit": null,
      "object_position": null,
      "order": null,
      "overflow": null,
      "overflow_x": null,
      "overflow_y": null,
      "padding": null,
      "right": null,
      "top": null,
      "visibility": null,
      "width": null
     }
    },
    "80e60e3aa1f14935a2bab71c2c3603cb": {
     "model_module": "@jupyter-widgets/controls",
     "model_module_version": "1.5.0",
     "model_name": "VBoxModel",
     "state": {
      "_dom_classes": [],
      "_model_module": "@jupyter-widgets/controls",
      "_model_module_version": "1.5.0",
      "_model_name": "VBoxModel",
      "_view_count": null,
      "_view_module": "@jupyter-widgets/controls",
      "_view_module_version": "1.5.0",
      "_view_name": "VBoxView",
      "box_style": "",
      "children": [],
      "layout": "IPY_MODEL_9847d9c620154c4f88b12b665c5b024b"
     }
    },
    "8249ad273830410bb9b72a9b1822f680": {
     "model_module": "@jupyter-widgets/controls",
     "model_module_version": "1.5.0",
     "model_name": "DescriptionStyleModel",
     "state": {
      "_model_module": "@jupyter-widgets/controls",
      "_model_module_version": "1.5.0",
      "_model_name": "DescriptionStyleModel",
      "_view_count": null,
      "_view_module": "@jupyter-widgets/base",
      "_view_module_version": "1.2.0",
      "_view_name": "StyleView",
      "description_width": ""
     }
    },
    "9847d9c620154c4f88b12b665c5b024b": {
     "model_module": "@jupyter-widgets/base",
     "model_module_version": "1.2.0",
     "model_name": "LayoutModel",
     "state": {
      "_model_module": "@jupyter-widgets/base",
      "_model_module_version": "1.2.0",
      "_model_name": "LayoutModel",
      "_view_count": null,
      "_view_module": "@jupyter-widgets/base",
      "_view_module_version": "1.2.0",
      "_view_name": "LayoutView",
      "align_content": null,
      "align_items": "center",
      "align_self": null,
      "border": null,
      "bottom": null,
      "display": "flex",
      "flex": null,
      "flex_flow": "column",
      "grid_area": null,
      "grid_auto_columns": null,
      "grid_auto_flow": null,
      "grid_auto_rows": null,
      "grid_column": null,
      "grid_gap": null,
      "grid_row": null,
      "grid_template_areas": null,
      "grid_template_columns": null,
      "grid_template_rows": null,
      "height": null,
      "justify_content": null,
      "justify_items": null,
      "left": null,
      "margin": null,
      "max_height": null,
      "max_width": null,
      "min_height": null,
      "min_width": null,
      "object_fit": null,
      "object_position": null,
      "order": null,
      "overflow": null,
      "overflow_x": null,
      "overflow_y": null,
      "padding": null,
      "right": null,
      "top": null,
      "visibility": null,
      "width": "50%"
     }
    },
    "a0bffde5c7844b35afa176fa01d7c73b": {
     "model_module": "@jupyter-widgets/controls",
     "model_module_version": "1.5.0",
     "model_name": "ButtonModel",
     "state": {
      "_dom_classes": [],
      "_model_module": "@jupyter-widgets/controls",
      "_model_module_version": "1.5.0",
      "_model_name": "ButtonModel",
      "_view_count": null,
      "_view_module": "@jupyter-widgets/controls",
      "_view_module_version": "1.5.0",
      "_view_name": "ButtonView",
      "button_style": "",
      "description": "Login",
      "disabled": false,
      "icon": "",
      "layout": "IPY_MODEL_48c6b223750e48228e06c7e15edbd94c",
      "style": "IPY_MODEL_e28b74abd21b4e2cb82679688cd99b12",
      "tooltip": ""
     }
    },
    "bb3e25b535324a11a3b278bc1baa22c5": {
     "model_module": "@jupyter-widgets/base",
     "model_module_version": "1.2.0",
     "model_name": "LayoutModel",
     "state": {
      "_model_module": "@jupyter-widgets/base",
      "_model_module_version": "1.2.0",
      "_model_name": "LayoutModel",
      "_view_count": null,
      "_view_module": "@jupyter-widgets/base",
      "_view_module_version": "1.2.0",
      "_view_name": "LayoutView",
      "align_content": null,
      "align_items": null,
      "align_self": null,
      "border": null,
      "bottom": null,
      "display": null,
      "flex": null,
      "flex_flow": null,
      "grid_area": null,
      "grid_auto_columns": null,
      "grid_auto_flow": null,
      "grid_auto_rows": null,
      "grid_column": null,
      "grid_gap": null,
      "grid_row": null,
      "grid_template_areas": null,
      "grid_template_columns": null,
      "grid_template_rows": null,
      "height": null,
      "justify_content": null,
      "justify_items": null,
      "left": null,
      "margin": null,
      "max_height": null,
      "max_width": null,
      "min_height": null,
      "min_width": null,
      "object_fit": null,
      "object_position": null,
      "order": null,
      "overflow": null,
      "overflow_x": null,
      "overflow_y": null,
      "padding": null,
      "right": null,
      "top": null,
      "visibility": null,
      "width": null
     }
    },
    "c4fe0a613648446a95f621be573f2f18": {
     "model_module": "@jupyter-widgets/controls",
     "model_module_version": "1.5.0",
     "model_name": "HTMLModel",
     "state": {
      "_dom_classes": [],
      "_model_module": "@jupyter-widgets/controls",
      "_model_module_version": "1.5.0",
      "_model_name": "HTMLModel",
      "_view_count": null,
      "_view_module": "@jupyter-widgets/controls",
      "_view_module_version": "1.5.0",
      "_view_name": "HTMLView",
      "description": "",
      "description_tooltip": null,
      "layout": "IPY_MODEL_5a7d1ccafbdb41aeae24f5b6ce754218",
      "placeholder": "​",
      "style": "IPY_MODEL_8249ad273830410bb9b72a9b1822f680",
      "value": "<center> <img\nsrc=https://huggingface.co/front/assets/huggingface_logo-noborder.svg\nalt='Hugging Face'> <br> Copy a token from <a\nhref=\"https://huggingface.co/settings/tokens\" target=\"_blank\">your Hugging Face\ntokens page</a> and paste it below. <br> Immediately click login after copying\nyour token or it might be stored in plain text in this notebook file. </center>"
     }
    },
    "d4f8ee20916b4b7ca47e1508d6612c6f": {
     "model_module": "@jupyter-widgets/controls",
     "model_module_version": "1.5.0",
     "model_name": "DescriptionStyleModel",
     "state": {
      "_model_module": "@jupyter-widgets/controls",
      "_model_module_version": "1.5.0",
      "_model_name": "DescriptionStyleModel",
      "_view_count": null,
      "_view_module": "@jupyter-widgets/base",
      "_view_module_version": "1.2.0",
      "_view_name": "StyleView",
      "description_width": ""
     }
    },
    "dfa3def4d0fc4c5896d86e229fb73b0b": {
     "model_module": "@jupyter-widgets/controls",
     "model_module_version": "1.5.0",
     "model_name": "PasswordModel",
     "state": {
      "_dom_classes": [],
      "_model_module": "@jupyter-widgets/controls",
      "_model_module_version": "1.5.0",
      "_model_name": "PasswordModel",
      "_view_count": null,
      "_view_module": "@jupyter-widgets/controls",
      "_view_module_version": "1.5.0",
      "_view_name": "PasswordView",
      "continuous_update": true,
      "description": "Token:",
      "description_tooltip": null,
      "disabled": false,
      "layout": "IPY_MODEL_7c033a54d8b542c7a23b59c364e9c429",
      "placeholder": "​",
      "style": "IPY_MODEL_487c8f5dc81343eabf88aa1500723845",
      "value": ""
     }
    },
    "e28b74abd21b4e2cb82679688cd99b12": {
     "model_module": "@jupyter-widgets/controls",
     "model_module_version": "1.5.0",
     "model_name": "ButtonStyleModel",
     "state": {
      "_model_module": "@jupyter-widgets/controls",
      "_model_module_version": "1.5.0",
      "_model_name": "ButtonStyleModel",
      "_view_count": null,
      "_view_module": "@jupyter-widgets/base",
      "_view_module_version": "1.2.0",
      "_view_name": "StyleView",
      "button_color": null,
      "font_weight": ""
     }
    },
    "e2c31ef4512a49768164f3f24acf98a6": {
     "model_module": "@jupyter-widgets/controls",
     "model_module_version": "1.5.0",
     "model_name": "LabelModel",
     "state": {
      "_dom_classes": [],
      "_model_module": "@jupyter-widgets/controls",
      "_model_module_version": "1.5.0",
      "_model_name": "LabelModel",
      "_view_count": null,
      "_view_module": "@jupyter-widgets/controls",
      "_view_module_version": "1.5.0",
      "_view_name": "LabelView",
      "description": "",
      "description_tooltip": null,
      "layout": "IPY_MODEL_20fc36647d734e71ae6816cd79cbd6ee",
      "placeholder": "​",
      "style": "IPY_MODEL_594843dbe05b467e84d22ae57fe446ad",
      "value": "Connecting..."
     }
    }
   }
  }
 },
 "nbformat": 4,
 "nbformat_minor": 4
}
